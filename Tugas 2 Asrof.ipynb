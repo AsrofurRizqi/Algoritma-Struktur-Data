{
 "cells": [
  {
   "cell_type": "code",
   "execution_count": 6,
   "metadata": {},
   "outputs": [
    {
     "name": "stdout",
     "output_type": "stream",
     "text": [
      "sehingga luas lingkaran 615.44\n"
     ]
    }
   ],
   "source": [
    "r = 14\n",
    "phi = 3.14\n",
    "B = phi*r*r\n",
    "print (\"sehingga luas lingkaran\", B)"
   ]
  },
  {
   "cell_type": "code",
   "execution_count": 5,
   "metadata": {},
   "outputs": [
    {
     "name": "stdout",
     "output_type": "stream",
     "text": [
      "saya suka programming\n",
      "saya suka programming\n",
      "saya suka programming\n",
      "saya suka programming\n",
      "saya suka programming\n"
     ]
    }
   ],
   "source": [
    "for i in (1,2,3,4,5):\n",
    "    print(\"saya suka programming\")"
   ]
  },
  {
   "cell_type": "code",
   "execution_count": 2,
   "metadata": {},
   "outputs": [
    {
     "name": "stdout",
     "output_type": "stream",
     "text": [
      "Saya Muhammad Asyrofurrizqi, saya membuat program menghitung balok\n",
      "panjang = 5\n",
      "lebar = 7\n",
      "tinggi = 10\n",
      "Sehingga volume balok = 350\n"
     ]
    }
   ],
   "source": [
    "print(\"Saya Muhammad Asyrofurrizqi, saya membuat program menghitung balok\")\n",
    "p = 5\n",
    "print(\"panjang =\", p)\n",
    "l = 7\n",
    "print(\"lebar =\", l)\n",
    "t = 10\n",
    "print(\"tinggi =\", t)\n",
    "V = p*l*t\n",
    "print(\"Sehingga volume balok =\", V)"
   ]
  },
  {
   "cell_type": "code",
   "execution_count": null,
   "metadata": {},
   "outputs": [],
   "source": []
  }
 ],
 "metadata": {
  "kernelspec": {
   "display_name": "Python 3",
   "language": "python",
   "name": "python3"
  },
  "language_info": {
   "codemirror_mode": {
    "name": "ipython",
    "version": 3
   },
   "file_extension": ".py",
   "mimetype": "text/x-python",
   "name": "python",
   "nbconvert_exporter": "python",
   "pygments_lexer": "ipython3",
   "version": "3.8.3"
  }
 },
 "nbformat": 4,
 "nbformat_minor": 4
}
