{
 "cells": [
  {
   "cell_type": "code",
   "execution_count": 6,
   "metadata": {},
   "outputs": [
    {
     "name": "stdout",
     "output_type": "stream",
     "text": [
      "sehingga luas lingkaran 615.44\n"
     ]
    }
   ],
   "source": [
    "#Muhammad Asyrofurrizqi coding menghitung luas lingkaran\n",
    "r = 14     #jari-jari lingkaran\n",
    "phi = 3.14 #phi lingkaran\n",
    "B = phi*r*r #rumus luas lingkaran\n",
    "print (\"sehingga luas lingkaran\", B) #print hasil luas lingkaran"
   ]
  },
  {
   "cell_type": "code",
   "execution_count": 1,
   "metadata": {},
   "outputs": [
    {
     "name": "stdout",
     "output_type": "stream",
     "text": [
      "saya suka programming\n",
      "saya suka programming\n",
      "saya suka programming\n",
      "saya suka programming\n",
      "saya suka programming\n"
     ]
    }
   ],
   "source": [
    "#Muhammad Asyrofurrizqi print \"saya suka programming\" sebanyak 5 kali\n",
    "print(\"saya suka programming\")\n",
    "print(\"saya suka programming\")\n",
    "print(\"saya suka programming\")\n",
    "print(\"saya suka programming\")\n",
    "print(\"saya suka programming\")"
   ]
  },
  {
   "cell_type": "code",
   "execution_count": 2,
   "metadata": {},
   "outputs": [
    {
     "name": "stdout",
     "output_type": "stream",
     "text": [
      "Saya Muhammad Asyrofurrizqi, saya membuat program menghitung balok\n",
      "panjang = 5\n",
      "lebar = 7\n",
      "tinggi = 10\n",
      "Sehingga volume balok = 350\n"
     ]
    }
   ],
   "source": [
    "#Muhammad Asyrofurrizqi coding menghitung volume balok\n",
    "print(\"Saya Muhammad Asyrofurrizqi, saya membuat program menghitung balok\")\n",
    "p = 5 #data panjang balok\n",
    "print(\"panjang =\", p)\n",
    "l = 7 #data lebar balok\n",
    "print(\"lebar =\", l)\n",
    "t = 10 #data tinggi balok\n",
    "print(\"tinggi =\", t)\n",
    "V = p*l*t #rumus volume balok\n",
    "print(\"Sehingga volume balok =\", V) #hasil rumus volume balok dengan menjalankan rumus V"
   ]
  },
  {
   "cell_type": "code",
   "execution_count": null,
   "metadata": {},
   "outputs": [],
   "source": []
  }
 ],
 "metadata": {
  "kernelspec": {
   "display_name": "Python 3",
   "language": "python",
   "name": "python3"
  },
  "language_info": {
   "codemirror_mode": {
    "name": "ipython",
    "version": 3
   },
   "file_extension": ".py",
   "mimetype": "text/x-python",
   "name": "python",
   "nbconvert_exporter": "python",
   "pygments_lexer": "ipython3",
   "version": "3.8.3"
  }
 },
 "nbformat": 4,
 "nbformat_minor": 4
}
