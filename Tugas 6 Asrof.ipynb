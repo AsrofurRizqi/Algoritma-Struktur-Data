{
 "cells": [
  {
   "cell_type": "code",
   "execution_count": 1,
   "metadata": {},
   "outputs": [
    {
     "name": "stdout",
     "output_type": "stream",
     "text": [
      "Nilai : 65\n",
      "Harus remidi\n"
     ]
    }
   ],
   "source": [
    "#Muhammad Asyrofurrizqi\n",
    "#algoritma percabangan, nilai di bawah 70 remidi\n",
    "nilai = int(input(\"Nilai : \")) #input nilai\n",
    "if nilai <= 70:\n",
    "    print (\"Harus remidi\")"
   ]
  },
  {
   "cell_type": "code",
   "execution_count": 2,
   "metadata": {},
   "outputs": [
    {
     "name": "stdout",
     "output_type": "stream",
     "text": [
      "Masukkan jari-jari lingkaran :10\n",
      "Luas lingkaran :  314\n",
      "Jadi Lingkaran ini besar\n"
     ]
    }
   ],
   "source": [
    "#Muhammad Asyrofurrizqi\n",
    "jari = int(input(\"Masukkan jari-jari lingkaran :\")) #input jari-jari\n",
    "L = 3.14*jari*jari\n",
    "print (\"Luas lingkaran : \", int(L))\n",
    "if L >= 314: #percabangan pertama, jika L lebih besar dari 314\n",
    "    print (\"Jadi Lingkaran ini besar\")\n",
    "else: #percabangan kedua, lain dari di atas maka\n",
    "    print (\"Jadi Lingkaran ini kecil\")"
   ]
  },
  {
   "cell_type": "code",
   "execution_count": 5,
   "metadata": {},
   "outputs": [
    {
     "name": "stdout",
     "output_type": "stream",
     "text": [
      "1 = Rumus Volume Balok\n",
      "2 = Rumus Volume Kubus\n",
      "3 = ... \n",
      "Masukkan Nomor Yang Dipilih [1/2/3]: 1\n",
      "Masukkan P : 6\n",
      "Masukkan L : 4\n",
      "Masukkan T : 3\n",
      "Maka Volume Balok :  72\n"
     ]
    }
   ],
   "source": [
    "#Muhammad Asyrofurrizqi\n",
    "def Vbalok(): #Fungsi pertama, rumus volume balok\n",
    "    p = int(input(\"Masukkan P : \"))\n",
    "    l = int(input(\"Masukkan L : \"))\n",
    "    t = int(input(\"Masukkan T : \"))\n",
    "    V = p*l*t\n",
    "    return V #return rumus V (volum balok)\n",
    "def Vkubus(): #Fungsi kedua, rumus volume kubus\n",
    "    s = int(input(\"Masukkan panjang sisi : \"))\n",
    "    V = s*s*s\n",
    "    return V #return rumus V (volum kubus)\n",
    "print (\"1 = Rumus Volume Balok\")\n",
    "print (\"2 = Rumus Volume Kubus\")\n",
    "print (\"3 = ... \")\n",
    "nomor = int(input(\"Masukkan Nomor Yang Dipilih [1/2/3]: \")) #input nomor yang dipilih (integer)\n",
    "if nomor == 1: #Jika nomor sama dengan 1\n",
    "    print (\"Maka Volume Balok : \", Vbalok())\n",
    "elif nomor == 2: #Lain jika nomor sama dengan 2\n",
    "    print (\"Maka Volume Kubus : \", Vkubus())\n",
    "else: # Lain dari di atas maka\n",
    "    print (\"Program Tidak Tersedia\")"
   ]
  },
  {
   "cell_type": "code",
   "execution_count": null,
   "metadata": {},
   "outputs": [],
   "source": []
  }
 ],
 "metadata": {
  "kernelspec": {
   "display_name": "Python 3",
   "language": "python",
   "name": "python3"
  },
  "language_info": {
   "codemirror_mode": {
    "name": "ipython",
    "version": 3
   },
   "file_extension": ".py",
   "mimetype": "text/x-python",
   "name": "python",
   "nbconvert_exporter": "python",
   "pygments_lexer": "ipython3",
   "version": "3.8.3"
  }
 },
 "nbformat": 4,
 "nbformat_minor": 4
}
