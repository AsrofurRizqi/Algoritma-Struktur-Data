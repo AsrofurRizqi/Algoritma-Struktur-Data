{
 "cells": [
  {
   "cell_type": "code",
   "execution_count": 2,
   "metadata": {},
   "outputs": [
    {
     "name": "stdout",
     "output_type": "stream",
     "text": [
      "I like programming\n",
      "Because I proud to make something new\n"
     ]
    }
   ],
   "source": [
    "#Muhammad Asyrofurrizqi membuat 2 fungsi\n",
    "#Fungsi 1\n",
    "def fungsi0():\n",
    "    print (\"Because I proud to make something new\")\n",
    "#Fungsi 2\n",
    "def fungsi1():\n",
    "    print (\"I like programming\")\n",
    "\n",
    "#Memanggil fungsi\n",
    "fungsi1()\n",
    "fungsi0()"
   ]
  },
  {
   "cell_type": "code",
   "execution_count": 1,
   "metadata": {},
   "outputs": [
    {
     "name": "stdout",
     "output_type": "stream",
     "text": [
      "Silahkan masukkan nama: Muhammad Asyrofurrizqi\n",
      "Nama saya adalah  Muhammad Asyrofurrizqi\n",
      "luas kepala adalah 25\n",
      "luas kepala adalah 2500\n"
     ]
    }
   ],
   "source": [
    "#Muhammad Asyrofurrizqi Membuat fungsi dengan 2 parameter\n",
    "#Fungsi pertama\n",
    "def perkenalan():\n",
    "    nama = input (\"Silahkan masukkan nama: \")\n",
    "    print (\"Nama saya adalah \", nama)\n",
    "\n",
    "#Fungsi kedua\n",
    "def luas_kepala(panjang, lebar): #fungsi dengan 2 parameter\n",
    "    luas = (panjang * lebar) / 2\n",
    "    print(\"luas kepala adalah\", int(luas));\n",
    "    \n",
    "#pemanggilan fungsi\n",
    "perkenalan()\n",
    "luas_kepala(5, 10)\n",
    "luas_kepala(100, 50)"
   ]
  },
  {
   "cell_type": "code",
   "execution_count": 2,
   "metadata": {},
   "outputs": [
    {
     "name": "stdout",
     "output_type": "stream",
     "text": [
      "Panjang : 6\n",
      "Lebar : 4\n",
      "Tinggi : 5\n",
      "Luas persegi panjang yaitu 24\n",
      "Volume balok yaitu 120\n"
     ]
    }
   ],
   "source": [
    "#Muhammad Asyrofurrizqi membuat fungsi return\n",
    "#Fungsi input\n",
    "p = int(input (\"Panjang : \"))\n",
    "l = int(input (\"Lebar : \"))\n",
    "t = int(input (\"Tinggi : \"))\n",
    "#Fungsi Return pertama\n",
    "def luas_persegi ():\n",
    "    luas = p * l\n",
    "    return luas #return variabel luas\n",
    "#Fungsi Return kedua\n",
    "def volume_balok ():\n",
    "    volume = luas_persegi()* t\n",
    "    return volume #return variabel volume\n",
    "\n",
    "#Print fungsi\n",
    "print (\"Luas persegi panjang yaitu\",luas_persegi())\n",
    "print (\"Volume balok yaitu\", volume_balok())"
   ]
  },
  {
   "cell_type": "code",
   "execution_count": 16,
   "metadata": {},
   "outputs": [
    {
     "name": "stdout",
     "output_type": "stream",
     "text": [
      "Angka 1 : 8\n",
      "Angka 2 : 8\n",
      "Apakah Angka 1 sama dengan Angka 2 ? True\n",
      "Apakah Angka 1 lebih besar dari Angka 2 ? False\n"
     ]
    }
   ],
   "source": [
    "#Muhammad Asyrofurrizqi membuat Fungsi,Input, dan Operator Logika\n",
    "#Input\n",
    "angka_1 = input (\"Angka 1 : \")\n",
    "angka_2 = input (\"Angka 2 : \")\n",
    "#Fungsi pertama\n",
    "def sama_dengan ():\n",
    "    dengan = angka_1 == angka_2 #Operator logika, sama dengan\n",
    "    return dengan\n",
    "\n",
    "#Fungsi kedua\n",
    "def lebih_besar ():\n",
    "    besar = angka_1 > angka_2 #Operator logika, lebih besar\n",
    "    return besar\n",
    "#Memanggil fungsi dan print\n",
    "print (\"Apakah Angka 1 sama dengan Angka 2 ?\", sama_dengan())\n",
    "print (\"Apakah Angka 1 lebih besar dari Angka 2 ?\", lebih_besar())"
   ]
  },
  {
   "cell_type": "code",
   "execution_count": null,
   "metadata": {},
   "outputs": [],
   "source": []
  }
 ],
 "metadata": {
  "kernelspec": {
   "display_name": "Python 3",
   "language": "python",
   "name": "python3"
  },
  "language_info": {
   "codemirror_mode": {
    "name": "ipython",
    "version": 3
   },
   "file_extension": ".py",
   "mimetype": "text/x-python",
   "name": "python",
   "nbconvert_exporter": "python",
   "pygments_lexer": "ipython3",
   "version": "3.8.3"
  }
 },
 "nbformat": 4,
 "nbformat_minor": 4
}
