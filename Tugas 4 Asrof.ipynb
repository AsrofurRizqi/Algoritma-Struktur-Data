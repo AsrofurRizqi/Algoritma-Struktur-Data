{
 "cells": [
  {
   "cell_type": "code",
   "execution_count": 36,
   "metadata": {},
   "outputs": [
    {
     "name": "stdout",
     "output_type": "stream",
     "text": [
      "Hasil 4 + 8 = 12\n",
      "Hasil 8 - 4 = 4\n",
      "Hasil 4 x 8 = 32\n",
      "Hasil 8 : 4 = 2\n",
      "Hasil 4 % 8 = 4\n",
      "Hasil 4 ** 8 = 65536\n"
     ]
    }
   ],
   "source": [
    "#Operator Aritmatika\n",
    "#Muhammad Asyrofurrizqi program operator Aritmatika\n",
    "a = 4 #Data a\n",
    "b = 8 #Data b\n",
    "\n",
    "#Menggunakan operator penjumlahan\n",
    "c = a + b\n",
    "print (\"Hasil\", a,\"+\", b,\"=\", c)\n",
    "\n",
    "#Menggunakan operator pengurangan\n",
    "d = b - a\n",
    "print (\"Hasil\", b,\"-\", a,\"=\", d)\n",
    "\n",
    "#Menggunakan operator perkalian\n",
    "e = a * b\n",
    "print (\"Hasil\", a,\"x\", b,\"=\", e)\n",
    "\n",
    "#Menggunakan operator pembagian\n",
    "f = b / a\n",
    "print (\"Hasil\", b,\":\", a,\"=\", int(f))\n",
    "\n",
    "#Menggunakan operator sisa bagi\n",
    "g = a % b  \n",
    "print (\"Hasil\", a,\"%\", b,\"=\", g)\n",
    "\n",
    "#Menggunakan operator pemangkatan\n",
    "h = a ** b\n",
    "print (\"Hasil\", a,\"**\", b,\"=\", h)"
   ]
  },
  {
   "cell_type": "code",
   "execution_count": 57,
   "metadata": {},
   "outputs": [
    {
     "name": "stdout",
     "output_type": "stream",
     "text": [
      "Penambahan :\n",
      "12\n",
      "20\n",
      "pengurangan :\n",
      "7\n",
      "5\n",
      "perkalian :\n",
      "4\n",
      "16\n",
      "pembagian :\n",
      "24\n",
      "8\n",
      "pemangkatan :\n",
      "5\n",
      "25\n",
      "Sisa Bagi :\n",
      "8\n",
      "2\n"
     ]
    }
   ],
   "source": [
    "#Muhammad Asyrofurrizqi program operator penugasan\n",
    "#Operator Penugasan\n",
    "print (\"Penambahan :\")\n",
    "a = 12 #contoh operator penugasan untuk mengisi nilai\n",
    "print (a)\n",
    "\n",
    "a += 8 \n",
    "print (a) #menjumlahkan nilai a dengan operator penugasan ,lalu print hasil setelah ditambah 8\n",
    "\n",
    "print (\"pengurangan :\")\n",
    "b = 7 #contoh operator penugasan untuk mengisi nilai\n",
    "print (b) \n",
    "\n",
    "b -= 2\n",
    "print (b) #mengurangi nilai b dengan operator penugasan, lalu print hasil setelah di kurangi 2\n",
    "\n",
    "print (\"perkalian :\")\n",
    "c = 4 #contoh operator penugasan untuk mengisi nilai\n",
    "print (c)\n",
    "\n",
    "c *= 4\n",
    "print (c) #perkalian nilai c dengan operator penugasan, lalu print hasil setelah di kali 4\n",
    "\n",
    "print (\"pembagian :\")\n",
    "d = 24 #contoh operator penugasan untuk mengisi nilai\n",
    "print (d)\n",
    "\n",
    "d /= 3 \n",
    "print (int(d)) #pembagian nilai d dengan operator penugasan, lalu print hasil setelah dibagi 3\n",
    "\n",
    "print (\"pemangkatan :\")\n",
    "e = 5 #contoh operator penugasan untuk mengisi nilai\n",
    "print (e)\n",
    "\n",
    "e **= 2\n",
    "print (e) #pemangkatan nilai e dengan operator penugasan, lalu print hasil setelah dipangkatkan 2\n",
    "\n",
    "print (\"Sisa Bagi :\")\n",
    "f = 8 #contoh operator penugasan untuk mengisi nilai\n",
    "print (f)\n",
    "\n",
    "f %= 3\n",
    "print (f) #Sisa Bagi nilai f dengan operator penugasan, lalu print hasil setelah di sisa bagi 3"
   ]
  },
  {
   "cell_type": "code",
   "execution_count": 42,
   "metadata": {},
   "outputs": [
    {
     "name": "stdout",
     "output_type": "stream",
     "text": [
      "Apakah a lebih besar dari b : False\n",
      "Apakah a lebih kecil dari b : True\n",
      "Apakah a sama dengan b : False\n",
      "Apakah a tidak sama dengan b : True\n",
      "Apakah a lebih besar atau sama dengan b : False\n",
      "Apakah a lebih kecil atau sama dengan b : True\n"
     ]
    }
   ],
   "source": [
    "#Muhammad Asyrofurrizqi program operator pembanding\n",
    "#Operator pembanding\n",
    "a = 15\n",
    "b = 20\n",
    "\n",
    "#Apakah a lebih besar dari b ?\n",
    "c = a > b\n",
    "print (\"Apakah a lebih besar dari b :\", c)\n",
    "\n",
    "#Apakah a lebih kecil dari b ?\n",
    "d = a < b\n",
    "print (\"Apakah a lebih kecil dari b :\", d)\n",
    "\n",
    "#Apakah a sama dengan b ?\n",
    "e = a == b\n",
    "print (\"Apakah a sama dengan b :\", e)\n",
    "\n",
    "#Apakah a tidak sama dengan b ?\n",
    "f = a != b\n",
    "print (\"Apakah a tidak sama dengan b :\", f)\n",
    "\n",
    "#Apakah a lebih besar atau sama dengan b ?\n",
    "g = a >= b\n",
    "print (\"Apakah a lebih besar atau sama dengan b :\", g)\n",
    "\n",
    "#Apakah a lebih kecil atau sama dengan b ?\n",
    "h = a <= b\n",
    "print (\"Apakah a lebih kecil atau sama dengan b :\", h)"
   ]
  },
  {
   "cell_type": "code",
   "execution_count": 47,
   "metadata": {},
   "outputs": [
    {
     "name": "stdout",
     "output_type": "stream",
     "text": [
      "False\n",
      "True\n",
      "True\n"
     ]
    }
   ],
   "source": [
    "#Muhammad Asyrofurrizqi program operator logika\n",
    "#Operator logika\n",
    "a = False\n",
    "b = True\n",
    "\n",
    "#Logika AND\n",
    "c = a and b\n",
    "print (c)\n",
    "\n",
    "#Logika OR\n",
    "d = a or b\n",
    "print (d)\n",
    "\n",
    "#Logika NOT (Negasi atau Kebalikan)\n",
    "e = not a\n",
    "print (e)"
   ]
  },
  {
   "cell_type": "code",
   "execution_count": 54,
   "metadata": {},
   "outputs": [
    {
     "name": "stdout",
     "output_type": "stream",
     "text": [
      "Masukkan Nama Bayi :Ayana\n",
      "Masukkan Berat Bayi :7\n",
      "Nama Bayi Adalah  Ayana ,Berat dalam Kg Adalah  7 ,Berat dalam Ons Adalah  70 ,Berat Bayi 1 Bulan kedepan Adalah  100\n"
     ]
    }
   ],
   "source": [
    "#Muhammad Asyrofurrizqi program input output\n",
    "#Input dan Output\n",
    "Nama = input (\"Masukkan Nama Bayi :\") #input data nama bayi\n",
    "Berat = int (input(\"Masukkan Berat Bayi :\")) #input data berat dalam kg\n",
    "Berat0 = Berat * 10\n",
    "Berat1 = Berat0 + 30\n",
    "print (\"Nama Bayi Adalah \", Nama,\",Berat dalam Kg Adalah \", Berat,\",Berat dalam Ons Adalah \", Berat0,\",Berat Bayi 1 Bulan kedepan Adalah \", Berat1)\n"
   ]
  },
  {
   "cell_type": "code",
   "execution_count": null,
   "metadata": {},
   "outputs": [],
   "source": []
  }
 ],
 "metadata": {
  "kernelspec": {
   "display_name": "Python 3",
   "language": "python",
   "name": "python3"
  },
  "language_info": {
   "codemirror_mode": {
    "name": "ipython",
    "version": 3
   },
   "file_extension": ".py",
   "mimetype": "text/x-python",
   "name": "python",
   "nbconvert_exporter": "python",
   "pygments_lexer": "ipython3",
   "version": "3.8.3"
  }
 },
 "nbformat": 4,
 "nbformat_minor": 4
}
