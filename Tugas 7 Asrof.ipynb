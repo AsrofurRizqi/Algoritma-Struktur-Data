{
 "cells": [
  {
   "cell_type": "code",
   "execution_count": 8,
   "metadata": {},
   "outputs": [
    {
     "name": "stdout",
     "output_type": "stream",
     "text": [
      "Saya tidak akan mengulangi perbuatan itu lagi\n",
      "Saya tidak akan mengulangi perbuatan itu lagi\n",
      "Saya tidak akan mengulangi perbuatan itu lagi\n",
      "Saya tidak akan mengulangi perbuatan itu lagi\n",
      "Saya tidak akan mengulangi perbuatan itu lagi\n",
      "Saya tidak akan mengulangi perbuatan itu lagi\n",
      "Saya tidak akan mengulangi perbuatan itu lagi\n",
      "Saya tidak akan mengulangi perbuatan itu lagi\n",
      "Saya tidak akan mengulangi perbuatan itu lagi\n",
      "Saya tidak akan mengulangi perbuatan itu lagi\n",
      "Saya tidak akan mengulangi perbuatan itu lagi\n",
      "Saya tidak akan mengulangi perbuatan itu lagi\n",
      "Saya tidak akan mengulangi perbuatan itu lagi\n",
      "Saya tidak akan mengulangi perbuatan itu lagi\n",
      "Saya tidak akan mengulangi perbuatan itu lagi\n",
      "Saya tidak akan mengulangi perbuatan itu lagi\n",
      "Saya tidak akan mengulangi perbuatan itu lagi\n",
      "Saya tidak akan mengulangi perbuatan itu lagi\n",
      "Saya tidak akan mengulangi perbuatan itu lagi\n",
      "Saya tidak akan mengulangi perbuatan itu lagi\n",
      "Saya tidak akan mengulangi perbuatan itu lagi\n",
      "Saya tidak akan mengulangi perbuatan itu lagi\n",
      "Saya tidak akan mengulangi perbuatan itu lagi\n",
      "Saya tidak akan mengulangi perbuatan itu lagi\n",
      "Saya tidak akan mengulangi perbuatan itu lagi\n"
     ]
    }
   ],
   "source": [
    "#Muhammad Asyrofurrizqi\n",
    "ulang = 25 #Banyaknya perulangan yg dibuat\n",
    "for i in range(ulang):\n",
    "    print(\"Saya tidak akan mengulangi perbuatan itu lagi\")"
   ]
  },
  {
   "cell_type": "code",
   "execution_count": 3,
   "metadata": {},
   "outputs": [
    {
     "name": "stdout",
     "output_type": "stream",
     "text": [
      "Nilai x = 14\n",
      "Nilai x = 13\n",
      "Nilai x = 12\n",
      "Nilai x = 11\n",
      "Nilai x = 10\n"
     ]
    }
   ],
   "source": [
    "#Muhammad Asyrofurrizqi\n",
    "x = 15\n",
    "while x>10: #ketika x lebih dari 10 maka x-1\n",
    "    x -= 1\n",
    "    print(\"Nilai x =\", x)"
   ]
  },
  {
   "cell_type": "code",
   "execution_count": 7,
   "metadata": {},
   "outputs": [
    {
     "name": "stdout",
     "output_type": "stream",
     "text": [
      "Masukkan Angka = 8\n",
      "Maka angka 8 Adalah bilangan genap\n"
     ]
    }
   ],
   "source": [
    "#Muhammad Asyrofurrizqi\n",
    "angka = int(input(\"Masukkan Angka = \"))\n",
    "#fungsi 1\n",
    "def genap():\n",
    "    print(\"Maka angka\", angka,\"Adalah bilangan genap\")\n",
    "#fungsi 2\n",
    "def ganjil():\n",
    "    print(\"Maka angka\", angka,\"Adalah bilangan ganjil\")\n",
    "\n",
    "if angka % 2 == 0:\n",
    "    genap()\n",
    "else:\n",
    "    ganjil()"
   ]
  },
  {
   "cell_type": "code",
   "execution_count": null,
   "metadata": {},
   "outputs": [],
   "source": []
  }
 ],
 "metadata": {
  "kernelspec": {
   "display_name": "Python 3",
   "language": "python",
   "name": "python3"
  },
  "language_info": {
   "codemirror_mode": {
    "name": "ipython",
    "version": 3
   },
   "file_extension": ".py",
   "mimetype": "text/x-python",
   "name": "python",
   "nbconvert_exporter": "python",
   "pygments_lexer": "ipython3",
   "version": "3.8.3"
  }
 },
 "nbformat": 4,
 "nbformat_minor": 4
}
