{
 "cells": [
  {
   "cell_type": "code",
   "execution_count": 12,
   "metadata": {},
   "outputs": [
    {
     "name": "stdout",
     "output_type": "stream",
     "text": [
      "20\n",
      "3.14\n",
      "40\n",
      "Ini variable muhammad asyrofurrizqi adalah = 40\n"
     ]
    },
    {
     "ename": "NameError",
     "evalue": "name 'var2' is not defined",
     "output_type": "error",
     "traceback": [
      "\u001b[0;31m---------------------------------------------------------------------------\u001b[0m",
      "\u001b[0;31mNameError\u001b[0m                                 Traceback (most recent call last)",
      "\u001b[0;32m<ipython-input-12-65969a64fddf>\u001b[0m in \u001b[0;36m<module>\u001b[0;34m\u001b[0m\n\u001b[1;32m     10\u001b[0m \u001b[0;34m\u001b[0m\u001b[0m\n\u001b[1;32m     11\u001b[0m \u001b[0;32mdel\u001b[0m \u001b[0;34m(\u001b[0m\u001b[0mvar2\u001b[0m\u001b[0;34m)\u001b[0m \u001b[0;31m#delete data variabel 2\u001b[0m\u001b[0;34m\u001b[0m\u001b[0;34m\u001b[0m\u001b[0m\n\u001b[0;32m---> 12\u001b[0;31m \u001b[0mprint\u001b[0m \u001b[0;34m(\u001b[0m\u001b[0mvar2\u001b[0m\u001b[0;34m)\u001b[0m \u001b[0;31m# print data variabel 2\u001b[0m\u001b[0;34m\u001b[0m\u001b[0;34m\u001b[0m\u001b[0m\n\u001b[0m\u001b[1;32m     13\u001b[0m \u001b[0;31m#Karena data (var2) di delete sebelum print maka data tidak dapat di print lagi karena sudah dihapus\u001b[0m\u001b[0;34m\u001b[0m\u001b[0;34m\u001b[0m\u001b[0;34m\u001b[0m\u001b[0m\n",
      "\u001b[0;31mNameError\u001b[0m: name 'var2' is not defined"
     ]
    }
   ],
   "source": [
    "#Muhammad Asyrofurrizqi print dan delete variabel\n",
    "var = 20 #data variabel\n",
    "phi = 3.14 #data variabel phi\n",
    "var2 = 40 #data variabel 2\n",
    "Variable_Saya = \"Ini variable muhammad asyrofurrizqi\" #data variabel_saya dalam bentuk data string\n",
    "print (var) #print variable\n",
    "print (phi) #print variable phi\n",
    "print (var2) #print variable 2 \n",
    "print(Variable_Saya,\"adalah =\", var2) #\n",
    "\n",
    "del (var2) #delete data variabel 2\n",
    "print (var2) # print data variabel 2\n",
    "#Karena data (var2) di delete sebelum print maka data tidak dapat di print lagi karena sudah dihapus"
   ]
  },
  {
   "cell_type": "code",
   "execution_count": 31,
   "metadata": {},
   "outputs": [
    {
     "name": "stdout",
     "output_type": "stream",
     "text": [
      "50\n",
      "3.14\n",
      "Keliling lingkaran sama dengan 314\n"
     ]
    }
   ],
   "source": [
    "#Muhammad Asyrofurrizqi membuat variabel menghitung keliling lingkaran\n",
    "var_jarijari = 50 #variabel jarijari, tipe integer\n",
    "print (var_jarijari) #print variabel jarijari\n",
    "var_phi = 3.14 #variabel phi, tipe float\n",
    "print (var_phi) #print variabel phi\n",
    "var_keliling = 2*var_phi*var_jarijari #variabel keliling, rumus keliling lingkaran\n",
    "print (\"Keliling lingkaran sama dengan\", int(var_keliling)) #hasil variabel keliling, keliling lingkaran tipe integer"
   ]
  },
  {
   "cell_type": "code",
   "execution_count": 24,
   "metadata": {},
   "outputs": [
    {
     "name": "stdout",
     "output_type": "stream",
     "text": [
      "1. True\n",
      "2. False\n"
     ]
    }
   ],
   "source": [
    "#Muhammad Asyrofurrizqi membuat perbandingan 2 angka data boolean\n",
    "tea = 12 < 15 #2 angka perbandingan data boolean tea\n",
    "print (\"1.\", tea) #print data boolean tea\n",
    "hue = 10 > 11 #2 angka perbandingan data boolean hue\n",
    "print (\"2.\", hue) #print data boolean hue"
   ]
  },
  {
   "cell_type": "code",
   "execution_count": 34,
   "metadata": {},
   "outputs": [
    {
     "name": "stdout",
     "output_type": "stream",
     "text": [
      "64\n",
      "64.0\n",
      "0b1000000\n",
      "0x40\n"
     ]
    }
   ],
   "source": [
    "#Muhammad Asyrofurrizqi membuat program konversi tipe data\n",
    "var = 64 #variabel tipe integer yang akan di konversi\n",
    "print (var) #print variabel\n",
    "print (float(var)) #print var dalam bentuk float atau desimal\n",
    "print (bin(var)) #print var setelah di konversi menjadi bin atau binary\n",
    "print (hex(var)) #print var setelah di konversi menjadi tipe data hexadecimal atau hex"
   ]
  },
  {
   "cell_type": "code",
   "execution_count": 11,
   "metadata": {},
   "outputs": [
    {
     "name": "stdout",
     "output_type": "stream",
     "text": [
      "Biodata Mahasiswa\n",
      "Nama: Muhammad Asyrofurrizqi\n",
      "NIM: 20090101\n",
      "\n",
      "Dia mahasiswa semester  1 yang berprestasi, karena memiliki IPK sebesar 3.85\n"
     ]
    },
    {
     "ename": "NameError",
     "evalue": "name 'IPK' is not defined",
     "output_type": "error",
     "traceback": [
      "\u001b[0;31m---------------------------------------------------------------------------\u001b[0m",
      "\u001b[0;31mNameError\u001b[0m                                 Traceback (most recent call last)",
      "\u001b[0;32m<ipython-input-11-981d00c31407>\u001b[0m in \u001b[0;36m<module>\u001b[0;34m\u001b[0m\n\u001b[1;32m     11\u001b[0m \u001b[0;34m\u001b[0m\u001b[0m\n\u001b[1;32m     12\u001b[0m \u001b[0;32mdel\u001b[0m \u001b[0;34m(\u001b[0m\u001b[0mIPK\u001b[0m\u001b[0;34m)\u001b[0m \u001b[0;31m#mendelete variabel IPK\u001b[0m\u001b[0;34m\u001b[0m\u001b[0;34m\u001b[0m\u001b[0m\n\u001b[0;32m---> 13\u001b[0;31m \u001b[0mprint\u001b[0m \u001b[0;34m(\u001b[0m\u001b[0mIPK\u001b[0m\u001b[0;34m)\u001b[0m\u001b[0;34m\u001b[0m\u001b[0;34m\u001b[0m\u001b[0m\n\u001b[0m",
      "\u001b[0;31mNameError\u001b[0m: name 'IPK' is not defined"
     ]
    }
   ],
   "source": [
    "#Muhammad Asyrofurrizqi biodata mahasiswa\n",
    "Judul = \"Biodata Mahasiswa\" #data judul\n",
    "Nama = \"Nama: Muhammad Asyrofurrizqi\" #data nama mahasiswa\n",
    "NIM = \"NIM: 20090101\" #data NIM\n",
    "Semester = 1 #data semester\n",
    "IPK = 3.85 #Data ipk\n",
    "print (Judul)\n",
    "print (Nama)\n",
    "print (NIM)\n",
    "print ('\\n'\"\"\"Dia mahasiswa semester \"\"\", Semester ,\"yang berprestasi, karena memiliki IPK sebesar\", IPK)\n",
    "\n",
    "del (IPK) #mendelete variabel IPK \n",
    "print (IPK) #print kembali IPK tetapi data sudah di hapus, maka akan error\n"
   ]
  },
  {
   "cell_type": "code",
   "execution_count": null,
   "metadata": {},
   "outputs": [],
   "source": []
  },
  {
   "cell_type": "code",
   "execution_count": null,
   "metadata": {},
   "outputs": [],
   "source": []
  }
 ],
 "metadata": {
  "kernelspec": {
   "display_name": "Python 3",
   "language": "python",
   "name": "python3"
  },
  "language_info": {
   "codemirror_mode": {
    "name": "ipython",
    "version": 3
   },
   "file_extension": ".py",
   "mimetype": "text/x-python",
   "name": "python",
   "nbconvert_exporter": "python",
   "pygments_lexer": "ipython3",
   "version": "3.8.3"
  }
 },
 "nbformat": 4,
 "nbformat_minor": 4
}
